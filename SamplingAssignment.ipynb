{
  "nbformat": 4,
  "nbformat_minor": 0,
  "metadata": {
    "colab": {
      "provenance": [],
      "include_colab_link": true
    },
    "kernelspec": {
      "name": "python3",
      "display_name": "Python 3"
    },
    "language_info": {
      "name": "python"
    }
  },
  "cells": [
    {
      "cell_type": "markdown",
      "metadata": {
        "id": "view-in-github",
        "colab_type": "text"
      },
      "source": [
        "<a href=\"https://colab.research.google.com/github/jashan-arora/Sampling-Assignment/blob/main/SamplingAssignment.ipynb\" target=\"_parent\"><img src=\"https://colab.research.google.com/assets/colab-badge.svg\" alt=\"Open In Colab\"/></a>"
      ]
    },
    {
      "cell_type": "markdown",
      "source": [
        "# Sampling Assignment\n",
        "### Jashan Arora 102003206 3COE9"
      ],
      "metadata": {
        "id": "iExqhKBJYANs"
      }
    },
    {
      "cell_type": "markdown",
      "source": [
        "**Reading Data from the csv File**\n"
      ],
      "metadata": {
        "id": "A6ZN24RnCeQw"
      }
    },
    {
      "cell_type": "code",
      "source": [
        "from google.colab import drive\n",
        "drive.mount('/content/drive')"
      ],
      "metadata": {
        "colab": {
          "base_uri": "https://localhost:8080/"
        },
        "id": "supw4CDZyZkH",
        "outputId": "c4b1ca80-c486-4247-f55f-c6ccf50b7985"
      },
      "execution_count": null,
      "outputs": [
        {
          "output_type": "stream",
          "name": "stdout",
          "text": [
            "Drive already mounted at /content/drive; to attempt to forcibly remount, call drive.mount(\"/content/drive\", force_remount=True).\n"
          ]
        }
      ]
    },
    {
      "cell_type": "code",
      "source": [
        "import pandas as pd\n",
        "import random\n",
        "import math\n",
        "random.seed(283)\n",
        "data = pd.read_csv('/content/drive/MyDrive/Creditcard_data.csv')"
      ],
      "metadata": {
        "id": "cFbfbl9ghU2p"
      },
      "execution_count": null,
      "outputs": []
    },
    {
      "cell_type": "markdown",
      "source": [
        "**Data PreProcessing**"
      ],
      "metadata": {
        "id": "IND7g_53TL85"
      }
    },
    {
      "cell_type": "code",
      "source": [
        "from sklearn.preprocessing import StandardScaler\n",
        "X=data.drop('Class', axis=1)\n",
        "y=data['Class']\n",
        "scaler = StandardScaler()\n",
        "X_scaled = pd.DataFrame(scaler.fit_transform(X))"
      ],
      "metadata": {
        "id": "DnrEytKETLKY"
      },
      "execution_count": null,
      "outputs": []
    },
    {
      "cell_type": "markdown",
      "source": [
        "**Splitting the Data into Training and Testing Datasets**"
      ],
      "metadata": {
        "id": "-XOVS5ICCseH"
      }
    },
    {
      "cell_type": "code",
      "source": [
        "from sklearn.model_selection import train_test_split\n",
        "X_train, X_test, y_train, y_test = train_test_split(X_scaled,y , test_size=0.30, random_state=41,stratify=data['Class'])"
      ],
      "metadata": {
        "id": "4WP3LCCHwES9"
      },
      "execution_count": null,
      "outputs": []
    },
    {
      "cell_type": "markdown",
      "source": [
        "**Balancing the Training Dataset using SMOTE**"
      ],
      "metadata": {
        "id": "Nr_ipPbOHKRX"
      }
    },
    {
      "cell_type": "code",
      "source": [
        "y_train.value_counts().plot(kind='pie',title=\"Imbalanced Dataset\")"
      ],
      "metadata": {
        "colab": {
          "base_uri": "https://localhost:8080/",
          "height": 282
        },
        "id": "vGbTfjfEDozE",
        "outputId": "354cc320-55a4-4b0c-c72d-a5321de115a2"
      },
      "execution_count": 97,
      "outputs": [
        {
          "output_type": "execute_result",
          "data": {
            "text/plain": [
              "<matplotlib.axes._subplots.AxesSubplot at 0x7f5a27e99250>"
            ]
          },
          "metadata": {},
          "execution_count": 97
        },
        {
          "output_type": "display_data",
          "data": {
            "text/plain": [
              "<Figure size 432x288 with 1 Axes>"
            ],
            "image/png": "[encoded data removed]"
          },
          "metadata": {}
        }
      ]
    },
    {
      "cell_type": "code",
      "source": [
        "from imblearn.over_sampling import SMOTE\n",
        "smote = SMOTE(random_state=42)\n",
        "X_resampled, y_resampled = smote.fit_resample(X_train, y_train)\n",
        "balanced_df = pd.concat([X_resampled, y_resampled], axis=1).sample(frac=1,random_state=12)"
      ],
      "metadata": {
        "id": "fBWKASlkmHIX"
      },
      "execution_count": null,
      "outputs": []
    },
    {
      "cell_type": "code",
      "source": [
        "y_resampled.value_counts().plot(kind='pie',title=\"Balanced Dataset\")"
      ],
      "metadata": {
        "colab": {
          "base_uri": "https://localhost:8080/",
          "height": 282
        },
        "id": "Kr86MAa1EhNV",
        "outputId": "94f15c70-5735-4643-b890-e8d9a7aa2edc"
      },
      "execution_count": 98,
      "outputs": [
        {
          "output_type": "execute_result",
          "data": {
            "text/plain": [
              "<matplotlib.axes._subplots.AxesSubplot at 0x7f5a27f14370>"
            ]
          },
          "metadata": {},
          "execution_count": 98
        },
        {
          "output_type": "display_data",
          "data": {
            "text/plain": [
              "<Figure size 432x288 with 1 Axes>"
            ],
            "image/png": "[encoded data removed]"
          },
          "metadata": {}
        }
      ]
    },
    {
      "cell_type": "markdown",
      "source": [
        "### Creation of Different Samples Using Various Sampling Techniques\n",
        "\n",
        "\n"
      ],
      "metadata": {
        "id": "_1lFzkrjTkWU"
      }
    },
    {
      "cell_type": "markdown",
      "source": [
        "**Random Sampling**"
      ],
      "metadata": {
        "id": "1VcLf57FIRiz"
      }
    },
    {
      "cell_type": "code",
      "source": [
        "Z=1.96\n",
        "E=0.05\n",
        "p=0.5\n",
        "random_sample_size = math.floor((Z**2*p*(1-p))/(E**2))     # sample size = (Z^2*p*(1-p))/E^2\n",
        "print(\"Sample Size : \",random_sample_size)\n",
        "random_sample = balanced_df.sample(n=random_sample_size, replace=False,random_state=8)\n",
        "print(\"Count of Different Classes in Sample\")\n",
        "random_sample['Class'].value_counts()"
      ],
      "metadata": {
        "id": "LgaWmpkYrFP3",
        "colab": {
          "base_uri": "https://localhost:8080/"
        },
        "outputId": "6f37936f-1850-45a1-89a2-e921538634e2"
      },
      "execution_count": null,
      "outputs": [
        {
          "output_type": "stream",
          "name": "stdout",
          "text": [
            "Sample Size :  384\n",
            "Count of Different Classes in Sample\n"
          ]
        },
        {
          "output_type": "execute_result",
          "data": {
            "text/plain": [
              "1    200\n",
              "0    184\n",
              "Name: Class, dtype: int64"
            ]
          },
          "metadata": {},
          "execution_count": 88
        }
      ]
    },
    {
      "cell_type": "markdown",
      "source": [
        "**Systematic Sampling**"
      ],
      "metadata": {
        "id": "t4Vsxte8IXfA"
      }
    },
    {
      "cell_type": "code",
      "source": [
        "def systematic_sample(df, sample_size, start):\n",
        "    return df.iloc[[int(start + i * step) for i in range(sample_size)]]\n",
        "Z=1.96\n",
        "E=0.05\n",
        "p=0.5\n",
        "systematic_sample_size = math.floor((Z**2*p*(1-p))/(E**2))     # sample size = (Z^2*p*(1-p))/E^2\n",
        "print(\"Sample Size : \",systematic_sample_size)\n",
        "step = len(data) / systematic_sample_size\n",
        "start = random.uniform(0, step)\n",
        "systematic_sample = systematic_sample(balanced_df, systematic_sample_size, start)\n",
        "print(\"Count of Different Classes in Sample\")\n",
        "systematic_sample['Class'].value_counts()"
      ],
      "metadata": {
        "id": "SPc9CgkUOKf_",
        "colab": {
          "base_uri": "https://localhost:8080/"
        },
        "outputId": "6d2c4721-71e7-4538-cc79-11afcd8b26e7"
      },
      "execution_count": null,
      "outputs": [
        {
          "output_type": "stream",
          "name": "stdout",
          "text": [
            "Sample Size :  384\n",
            "Count of Different Classes in Sample\n"
          ]
        },
        {
          "output_type": "execute_result",
          "data": {
            "text/plain": [
              "1    200\n",
              "0    184\n",
              "Name: Class, dtype: int64"
            ]
          },
          "metadata": {},
          "execution_count": 89
        }
      ]
    },
    {
      "cell_type": "markdown",
      "source": [
        "**Startified Random Sampling**"
      ],
      "metadata": {
        "id": "JeE2qgDuIdGH"
      }
    },
    {
      "cell_type": "code",
      "source": [
        "Z=1.96\n",
        "E=0.1\n",
        "p=0.5\n",
        "S=balanced_df['Class'].nunique()\n",
        "stratified_sample_size = math.floor((Z**2*p*(1-p))/((E/S)**2))     # sample size = (Z^2*p*(1-p))/(E/S)^2\n",
        "print(\"Sample Size : \",stratified_sample_size)\n",
        "stratified_sample=balanced_df.groupby('Class', group_keys=False).apply(lambda x: x.sample(int(stratified_sample_size/S),random_state=23))\n",
        "print(\"Count of Different Classes in Sample\")\n",
        "stratified_sample['Class'].value_counts()"
      ],
      "metadata": {
        "id": "cGiT8hk4RLQq",
        "colab": {
          "base_uri": "https://localhost:8080/"
        },
        "outputId": "dc817522-ce2b-42a0-b0bf-0c4727f9a8c6"
      },
      "execution_count": null,
      "outputs": [
        {
          "output_type": "stream",
          "name": "stdout",
          "text": [
            "Sample Size :  384\n",
            "Count of Different Classes in Sample\n"
          ]
        },
        {
          "output_type": "execute_result",
          "data": {
            "text/plain": [
              "0    192\n",
              "1    192\n",
              "Name: Class, dtype: int64"
            ]
          },
          "metadata": {},
          "execution_count": 90
        }
      ]
    },
    {
      "cell_type": "markdown",
      "source": [
        "**Cluster Sampling**"
      ],
      "metadata": {
        "id": "XZjWkGDVqDeK"
      }
    },
    {
      "cell_type": "code",
      "source": [
        "from sklearn.cluster import KMeans\n",
        "Z=1.96\n",
        "E=0.2555\n",
        "p=0.5\n",
        "C=5\n",
        "cluster_sample_size = math.floor((Z**2*p*(1-p))/((E/C)**2))     # sample size = (Z^2*p*(1-p))/(E/C)^2\n",
        "print(\"Sample Size : \",cluster_sample_size)\n",
        "kmeans = KMeans(n_clusters=C,random_state=18)\n",
        "kmeans.fit(balanced_df.values)\n",
        "labels = kmeans.labels_\n",
        "cluster_sample = balanced_df[labels==2]\n",
        "print(\"Count of Different Classes in Sample\")\n",
        "print(cluster_sample['Class'].value_counts())"
      ],
      "metadata": {
        "colab": {
          "base_uri": "https://localhost:8080/"
        },
        "id": "Z_UeCCtMqBaI",
        "outputId": "52b2fe29-02b9-46e2-d4bc-de58c45bc509"
      },
      "execution_count": null,
      "outputs": [
        {
          "output_type": "stream",
          "name": "stdout",
          "text": [
            "Sample Size :  367\n",
            "Count of Different Classes in Sample\n",
            "0    221\n",
            "1    146\n",
            "Name: Class, dtype: int64\n"
          ]
        }
      ]
    },
    {
      "cell_type": "markdown",
      "source": [
        "**Convenience Sampling**"
      ],
      "metadata": {
        "id": "ZZi8jzs4paon"
      }
    },
    {
      "cell_type": "code",
      "source": [
        "Z=1.96\n",
        "E=0.05\n",
        "p=0.5\n",
        "convenience_sample_size = math.floor((Z**2*p*(1-p))/(E**2))     # sample size = (Z^2*p*(1-p))/E^2\n",
        "print(\"Sample Size : \",convenience_sample_size)\n",
        "convenience_sample = balanced_df.head(n=convenience_sample_size)\n",
        "print(\"Count of Different Classes in Sample\")\n",
        "convenience_sample['Class'].value_counts()"
      ],
      "metadata": {
        "colab": {
          "base_uri": "https://localhost:8080/"
        },
        "id": "mWmlW0ympe0U",
        "outputId": "602b7404-05b5-4dfb-a6e1-3453d08714d0"
      },
      "execution_count": null,
      "outputs": [
        {
          "output_type": "stream",
          "name": "stdout",
          "text": [
            "Sample Size :  384\n",
            "Count of Different Classes in Sample\n"
          ]
        },
        {
          "output_type": "execute_result",
          "data": {
            "text/plain": [
              "1    197\n",
              "0    187\n",
              "Name: Class, dtype: int64"
            ]
          },
          "metadata": {},
          "execution_count": 92
        }
      ]
    },
    {
      "cell_type": "markdown",
      "source": [
        "### Applying Different Classification Models on Different Samples"
      ],
      "metadata": {
        "id": "wG_lP4R-RShp"
      }
    },
    {
      "cell_type": "code",
      "source": [
        "from sklearn.ensemble import RandomForestClassifier\n",
        "from sklearn.linear_model import LogisticRegression\n",
        "from sklearn.linear_model import RidgeClassifier\n",
        "from sklearn.tree import DecisionTreeClassifier\n",
        "from sklearn.naive_bayes import GaussianNB\n",
        "from sklearn.metrics import accuracy_score\n",
        "\n",
        "models = {\n",
        "    'Random Forest': RandomForestClassifier(random_state=27),\n",
        "    'Decision Tree': DecisionTreeClassifier(random_state=28),\n",
        "    'Gaussian Naive Bayes': GaussianNB(),\n",
        "    'Logistic Regression': LogisticRegression(max_iter=1000,random_state=15),\n",
        "    'Ridge Classifier': RidgeClassifier(random_state=12)\n",
        "}\n",
        "samples={'Random Sampling':random_sample,'Systematic Sampling':systematic_sample,'Stratified Sampling':stratified_sample,'Cluster Sampling':cluster_sample,'Convenience Sampling':convenience_sample}"
      ],
      "metadata": {
        "id": "kOzbfZuw70Mp"
      },
      "execution_count": null,
      "outputs": []
    },
    {
      "cell_type": "code",
      "source": [
        "result=[]\n",
        "for model_name,model in models.items():\n",
        "  accs=[]\n",
        "  for sample_name,sample in samples.items():\n",
        "      model.fit(sample.drop('Class',axis=1), sample['Class'])\n",
        "      y_pred = model.predict(X_test)\n",
        "      acc = accuracy_score(y_test, y_pred)\n",
        "      accs.append(acc)\n",
        "  result.append(accs)"
      ],
      "metadata": {
        "id": "fVcIDUco7-p6"
      },
      "execution_count": null,
      "outputs": []
    },
    {
      "cell_type": "markdown",
      "source": [
        "**Transforming Accuracies obtained into Dataframe**"
      ],
      "metadata": {
        "id": "CYX2mXLeXlBk"
      }
    },
    {
      "cell_type": "code",
      "source": [
        "columns=list(samples.keys())\n",
        "rownames=list(list(models.keys()))\n",
        "Accuracy_Table=pd.DataFrame(result,columns=columns,index=rownames)"
      ],
      "metadata": {
        "id": "fITo1tqve7Ws"
      },
      "execution_count": null,
      "outputs": []
    },
    {
      "cell_type": "markdown",
      "source": [
        "**Comparison of Accuracies obtained using Different Models and Sampling Techniques**"
      ],
      "metadata": {
        "id": "DZ5ckpzAgeNw"
      }
    },
    {
      "cell_type": "markdown",
      "source": [
        "The following are the accuracies achieved by applying different machine learning models to the different samples:"
      ],
      "metadata": {
        "id": "59hcorVmbTua"
      }
    },
    {
      "cell_type": "code",
      "source": [
        "Accuracy_Table"
      ],
      "metadata": {
        "colab": {
          "base_uri": "https://localhost:8080/",
          "height": 206
        },
        "id": "2Lx02s0CgMx6",
        "outputId": "26d01e69-668a-4938-8c45-06f692134afa"
      },
      "execution_count": null,
      "outputs": [
        {
          "output_type": "execute_result",
          "data": {
            "text/plain": [
              "                      Random Sampling  Systematic Sampling  \\\n",
              "Random Forest                0.987069             0.982759   \n",
              "Decision Tree                0.956897             0.939655   \n",
              "Gaussian Naive Bayes         0.862069             0.883621   \n",
              "Logistic Regression          0.862069             0.870690   \n",
              "Ridge Classifier             0.836207             0.844828   \n",
              "\n",
              "                      Stratified Sampling  Cluster Sampling  \\\n",
              "Random Forest                    0.991379          0.987069   \n",
              "Decision Tree                    0.969828          0.939655   \n",
              "Gaussian Naive Bayes             0.836207          0.982759   \n",
              "Logistic Regression              0.875000          0.586207   \n",
              "Ridge Classifier                 0.844828          0.478448   \n",
              "\n",
              "                      Convenience Sampling  \n",
              "Random Forest                     0.987069  \n",
              "Decision Tree                     0.948276  \n",
              "Gaussian Naive Bayes              0.849138  \n",
              "Logistic Regression               0.870690  \n",
              "Ridge Classifier                  0.823276  "
            ],
            "text/html": [
              "\n",
              "  <div id=\"df-c8636c36-edf4-4b26-8b22-19ce8be177bb\">\n",
              "    <div class=\"colab-df-container\">\n",
              "      <div>\n",
              "<style scoped>\n",
              "    .dataframe tbody tr th:only-of-type {\n",
              "        vertical-align: middle;\n",
              "    }\n",
              "\n",
              "    .dataframe tbody tr th {\n",
              "        vertical-align: top;\n",
              "    }\n",
              "\n",
              "    .dataframe thead th {\n",
              "        text-align: right;\n",
              "    }\n",
              "</style>\n",
              "<table border=\"1\" class=\"dataframe\">\n",
              "  <thead>\n",
              "    <tr style=\"text-align: right;\">\n",
              "      <th></th>\n",
              "      <th>Random Sampling</th>\n",
              "      <th>Systematic Sampling</th>\n",
              "      <th>Stratified Sampling</th>\n",
              "      <th>Cluster Sampling</th>\n",
              "      <th>Convenience Sampling</th>\n",
              "    </tr>\n",
              "  </thead>\n",
              "  <tbody>\n",
              "    <tr>\n",
              "      <th>Random Forest</th>\n",
              "      <td>0.987069</td>\n",
              "      <td>0.982759</td>\n",
              "      <td>0.991379</td>\n",
              "      <td>0.987069</td>\n",
              "      <td>0.987069</td>\n",
              "    </tr>\n",
              "    <tr>\n",
              "      <th>Decision Tree</th>\n",
              "      <td>0.956897</td>\n",
              "      <td>0.939655</td>\n",
              "      <td>0.969828</td>\n",
              "      <td>0.939655</td>\n",
              "      <td>0.948276</td>\n",
              "    </tr>\n",
              "    <tr>\n",
              "      <th>Gaussian Naive Bayes</th>\n",
              "      <td>0.862069</td>\n",
              "      <td>0.883621</td>\n",
              "      <td>0.836207</td>\n",
              "      <td>0.982759</td>\n",
              "      <td>0.849138</td>\n",
              "    </tr>\n",
              "    <tr>\n",
              "      <th>Logistic Regression</th>\n",
              "      <td>0.862069</td>\n",
              "      <td>0.870690</td>\n",
              "      <td>0.875000</td>\n",
              "      <td>0.586207</td>\n",
              "      <td>0.870690</td>\n",
              "    </tr>\n",
              "    <tr>\n",
              "      <th>Ridge Classifier</th>\n",
              "      <td>0.836207</td>\n",
              "      <td>0.844828</td>\n",
              "      <td>0.844828</td>\n",
              "      <td>0.478448</td>\n",
              "      <td>0.823276</td>\n",
              "    </tr>\n",
              "  </tbody>\n",
              "</table>\n",
              "</div>\n",
              "      <button class=\"colab-df-convert\" onclick=\"convertToInteractive('df-c8636c36-edf4-4b26-8b22-19ce8be177bb')\"\n",
              "              title=\"Convert this dataframe to an interactive table.\"\n",
              "              style=\"display:none;\">\n",
              "        \n",
              "  <svg xmlns=\"http://www.w3.org/2000/svg\" height=\"24px\"viewBox=\"0 0 24 24\"\n",
              "       width=\"24px\">\n",
              "    <path d=\"M0 0h24v24H0V0z\" fill=\"none\"/>\n",
              "    <path d=\"M18.56 5.44l.94 2.06.94-2.06 2.06-.94-2.06-.94-.94-2.06-.94 2.06-2.06.94zm-11 1L8.5 8.5l.94-2.06 2.06-.94-2.06-.94L8.5 2.5l-.94 2.06-2.06.94zm10 10l.94 2.06.94-2.06 2.06-.94-2.06-.94-.94-2.06-.94 2.06-2.06.94z\"/><path d=\"M17.41 7.96l-1.37-1.37c-.4-.4-.92-.59-1.43-.59-.52 0-1.04.2-1.43.59L10.3 9.45l-7.72 7.72c-.78.78-.78 2.05 0 2.83L4 21.41c.39.39.9.59 1.41.59.51 0 1.02-.2 1.41-.59l7.78-7.78 2.81-2.81c.8-.78.8-2.07 0-2.86zM5.41 20L4 18.59l7.72-7.72 1.47 1.35L5.41 20z\"/>\n",
              "  </svg>\n",
              "      </button>\n",
              "      \n",
              "  <style>\n",
              "    .colab-df-container {\n",
              "      display:flex;\n",
              "      flex-wrap:wrap;\n",
              "      gap: 12px;\n",
              "    }\n",
              "\n",
              "    .colab-df-convert {\n",
              "      background-color: #E8F0FE;\n",
              "      border: none;\n",
              "      border-radius: 50%;\n",
              "      cursor: pointer;\n",
              "      display: none;\n",
              "      fill: #1967D2;\n",
              "      height: 32px;\n",
              "      padding: 0 0 0 0;\n",
              "      width: 32px;\n",
              "    }\n",
              "\n",
              "    .colab-df-convert:hover {\n",
              "      background-color: #E2EBFA;\n",
              "      box-shadow: 0px 1px 2px rgba(60, 64, 67, 0.3), 0px 1px 3px 1px rgba(60, 64, 67, 0.15);\n",
              "      fill: #174EA6;\n",
              "    }\n",
              "\n",
              "    [theme=dark] .colab-df-convert {\n",
              "      background-color: #3B4455;\n",
              "      fill: #D2E3FC;\n",
              "    }\n",
              "\n",
              "    [theme=dark] .colab-df-convert:hover {\n",
              "      background-color: #434B5C;\n",
              "      box-shadow: 0px 1px 3px 1px rgba(0, 0, 0, 0.15);\n",
              "      filter: drop-shadow(0px 1px 2px rgba(0, 0, 0, 0.3));\n",
              "      fill: #FFFFFF;\n",
              "    }\n",
              "  </style>\n",
              "\n",
              "      <script>\n",
              "        const buttonEl =\n",
              "          document.querySelector('#df-c8636c36-edf4-4b26-8b22-19ce8be177bb button.colab-df-convert');\n",
              "        buttonEl.style.display =\n",
              "          google.colab.kernel.accessAllowed ? 'block' : 'none';\n",
              "\n",
              "        async function convertToInteractive(key) {\n",
              "          const element = document.querySelector('#df-c8636c36-edf4-4b26-8b22-19ce8be177bb');\n",
              "          const dataTable =\n",
              "            await google.colab.kernel.invokeFunction('convertToInteractive',\n",
              "                                                     [key], {});\n",
              "          if (!dataTable) return;\n",
              "\n",
              "          const docLinkHtml = 'Like what you see? Visit the ' +\n",
              "            '<a target=\"_blank\" href=https://colab.research.google.com/notebooks/data_table.ipynb>data table notebook</a>'\n",
              "            + ' to learn more about interactive tables.';\n",
              "          element.innerHTML = '';\n",
              "          dataTable['output_type'] = 'display_data';\n",
              "          await google.colab.output.renderOutput(dataTable, element);\n",
              "          const docLink = document.createElement('div');\n",
              "          docLink.innerHTML = docLinkHtml;\n",
              "          element.appendChild(docLink);\n",
              "        }\n",
              "      </script>\n",
              "    </div>\n",
              "  </div>\n",
              "  "
            ]
          },
          "metadata": {},
          "execution_count": 96
        }
      ]
    },
    {
      "cell_type": "markdown",
      "source": [
        "The **Random Forest Classifier** achieved the highest accuracy of **0.991379**, when applied to the sample obtained through stratified sampling. This finding indicates that stratified sampling could be a suitable sampling technique for this particular dataset and problem."
      ],
      "metadata": {
        "id": "ueg7F7JibKnl"
      }
    }
  ]
}